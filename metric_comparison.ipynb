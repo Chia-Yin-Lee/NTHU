{
  "nbformat": 4,
  "nbformat_minor": 0,
  "metadata": {
    "colab": {
      "provenance": [],
      "authorship_tag": "ABX9TyNp/xUT7lBqWWkTTxeXXlgm",
      "include_colab_link": true
    },
    "kernelspec": {
      "name": "python3",
      "display_name": "Python 3"
    },
    "language_info": {
      "name": "python"
    }
  },
  "cells": [
    {
      "cell_type": "markdown",
      "metadata": {
        "id": "view-in-github",
        "colab_type": "text"
      },
      "source": [
        "<a href=\"https://colab.research.google.com/github/Chia-Yin-Lee/NTHU/blob/main/metric_comparison.ipynb\" target=\"_parent\"><img src=\"https://colab.research.google.com/assets/colab-badge.svg\" alt=\"Open In Colab\"/></a>"
      ]
    },
    {
      "cell_type": "code",
      "execution_count": 8,
      "metadata": {
        "colab": {
          "base_uri": "https://localhost:8080/"
        },
        "cellView": "form",
        "id": "ybCxfcnXP46B",
        "outputId": "1b6d6c7a-b4d0-4ad4-b65c-1d061804094d"
      },
      "outputs": [
        {
          "output_type": "stream",
          "name": "stdout",
          "text": [
            "Mounted at /content/drive\n",
            "/content/drive/MyDrive/thesis\n"
          ]
        }
      ],
      "source": [
        "#@title connect google drive folder\n",
        "\n",
        "from google.colab import drive\n",
        "drive.mount('/content/drive')\n",
        "%cd /content/drive/MyDrive/thesis"
      ]
    },
    {
      "cell_type": "code",
      "source": [
        "#@title import packages\n",
        "import pandas as pd\n",
        "import numpy as np\n",
        "import matplotlib.pyplot as plt\n",
        "import glob\n",
        "import re\n",
        "import copy"
      ],
      "metadata": {
        "id": "AhbleiNVSaWe"
      },
      "execution_count": 79,
      "outputs": []
    },
    {
      "cell_type": "code",
      "source": [
        "sector = 'industrial'\n",
        "file_pattern = f'{sector}_metrics*.csv'\n",
        "\n",
        "# Use glob.glob to get a list of file names that match the pattern\n",
        "file_list = glob.glob(file_pattern)\n",
        "\n",
        "try:\n",
        "  file_list.remove('healthcare_metrics_F+T.csv')\n",
        "except:\n",
        "  pass\n",
        "\n",
        "# Create an empty list to store the dataframes\n",
        "dfs = []\n",
        "\n",
        "for file_name in file_list:\n",
        "    fin_pattern = r'metrics.csv'\n",
        "    df = pd.read_csv(file_name, index_col = False)\n",
        "\n",
        "    try:\n",
        "      del df['Unnamed: 0']\n",
        "    except:\n",
        "      pass\n",
        "\n",
        "    dfs.append(df)\n",
        "    match = re.search(fin_pattern, file_name)\n",
        "    if match:\n",
        "      index = file_list.index(file_name)\n",
        "      file_name = file_name[:-11] + 'metrics_FIN.csv'\n",
        "      file_list[index] = file_name"
      ],
      "metadata": {
        "id": "j4ZYQgYISz8B"
      },
      "execution_count": 113,
      "outputs": []
    },
    {
      "cell_type": "code",
      "source": [
        "metrics = ['MAE', 'MAPE', 'MDAPE', 'RMSE', 'R2']"
      ],
      "metadata": {
        "id": "UKmnUl1hhyvs"
      },
      "execution_count": 89,
      "outputs": []
    },
    {
      "cell_type": "code",
      "source": [
        "file_list"
      ],
      "metadata": {
        "colab": {
          "base_uri": "https://localhost:8080/"
        },
        "id": "UMrf4XhtUsRM",
        "outputId": "b2c7695d-9a06-4e54-da5a-61a9ddc9d485"
      },
      "execution_count": 114,
      "outputs": [
        {
          "output_type": "execute_result",
          "data": {
            "text/plain": [
              "['industrial_metrics_FIN.csv',\n",
              " 'industrial_metrics_SAE_1.csv',\n",
              " 'industrial_metrics_SAE_0.csv',\n",
              " 'industrial_metrics_SVD_1.csv',\n",
              " 'industrial_metrics_SVD_0.csv',\n",
              " 'industrial_metrics_PCA_1.csv',\n",
              " 'industrial_metrics_PCA_0.csv']"
            ]
          },
          "metadata": {},
          "execution_count": 114
        }
      ]
    },
    {
      "cell_type": "code",
      "source": [
        "# Extract the substrings between 'metrics_' and '.csv' and create a new list\n",
        "file_shortlist = [item.split('metrics_')[1].split('.csv')[0] for item in file_list]\n",
        "\n",
        "print(file_shortlist)"
      ],
      "metadata": {
        "colab": {
          "base_uri": "https://localhost:8080/"
        },
        "id": "1v6sARgOg-cO",
        "outputId": "8cc00131-8f58-4274-ddac-d40efaee9804"
      },
      "execution_count": 115,
      "outputs": [
        {
          "output_type": "stream",
          "name": "stdout",
          "text": [
            "['FIN', 'SAE_1', 'SAE_0', 'SVD_1', 'SVD_0', 'PCA_1', 'PCA_0']\n"
          ]
        }
      ]
    },
    {
      "cell_type": "code",
      "source": [
        "#@title combine all metrics in that sector\n",
        "\n",
        "# Concatenate the dataframes along columns axis (axis=1) with column name prefixes\n",
        "combined_df = pd.concat([df.add_prefix(f'{file_shortlist[i]}_') for i, df in enumerate(dfs)], axis=1)\n",
        "\n",
        "combined_df = combined_df.set_index(pd.Index(metrics))\n",
        "#combined_df.reset_index(inplace=True)\n",
        "combined_df.columns = combined_df.columns.str.replace('_df', '')\n",
        "\n",
        "print(combined_df)"
      ],
      "metadata": {
        "colab": {
          "base_uri": "https://localhost:8080/"
        },
        "id": "ImNp-w7XYLkW",
        "outputId": "a8e872b4-28e9-48cd-8bfe-9467b90c5123"
      },
      "execution_count": 116,
      "outputs": [
        {
          "output_type": "stream",
          "name": "stdout",
          "text": [
            "       FIN_A17U  FIN_AJBU  FIN_BUOU  FIN_BWCU  FIN_DHLU  FIN_J91U  FIN_M1GU  \\\n",
            "MAE    0.027855  0.051430  0.014444  0.010192  0.005962  0.004695  0.006122   \n",
            "MAPE   1.021021  2.412584  1.161276  3.604823  1.026542  1.459976  1.515822   \n",
            "MDAPE  0.820444  2.539069  0.867776  3.312628  0.820159  1.360225  1.329119   \n",
            "RMSE   0.034761  0.058646  0.019071  0.012359  0.007712  0.005641  0.007328   \n",
            "R2     0.624733  0.337892  0.728373  0.312870  0.721867  0.667134  0.664959   \n",
            "\n",
            "       FIN_M44U  FIN_ME8U  FIN_O5RU  ...  PCA_1_O5RU  PCA_0_AU8U  PCA_0_BMGU  \\\n",
            "MAE    0.021100  0.019004  0.015298  ...    0.023959    0.049342    0.013872   \n",
            "MAPE   1.284636  0.857353  1.254722  ...    1.961993    5.113004    3.212804   \n",
            "MDAPE  0.944454  0.885389  0.885066  ...    1.477127    5.212152    1.023218   \n",
            "RMSE   0.026339  0.022009  0.021305  ...    0.031506    0.052486    0.026982   \n",
            "R2     0.208864  0.433790  0.277470  ...   -0.580172   -2.812773   -0.392978   \n",
            "\n",
            "       PCA_0_C38U  PCA_0_CEDU  PCA_0_CRPU  PCA_0_D5IU  PCA_0_J69U  PCA_0_P40U  \\\n",
            "MAE      0.025711    0.009657    0.016891    0.001201    0.042163    0.011069   \n",
            "MAPE     1.356130    9.503880    2.441994    7.035528    1.938449    2.261586   \n",
            "MDAPE    1.148594    7.123487    2.290690    5.570810    1.889773    2.137724   \n",
            "RMSE     0.032617    0.012510    0.019301    0.001470    0.047744    0.012638   \n",
            "R2       0.380137    0.405165   -0.849316   -0.307989   -2.799130   -4.582739   \n",
            "\n",
            "       PCA_0_SK6U  \n",
            "MAE      0.007600  \n",
            "MAPE     0.825491  \n",
            "MDAPE    0.729501  \n",
            "RMSE     0.009717  \n",
            "R2      -0.063666  \n",
            "\n",
            "[5 rows x 69 columns]\n"
          ]
        }
      ]
    },
    {
      "cell_type": "code",
      "source": [
        "def avg_metric(standard, combined_df):\n",
        "\n",
        "  # standard = 'FIN', 'PCA_0', 'PCA_1', 'SVD_0', 'SVD_1', 'SAE_0', 'SAE_1'\n",
        "\n",
        "  filtered_columns = combined_df.filter(like=standard).columns.tolist()  # a list of filtered col names\n",
        "  print(filtered_columns)\n",
        "  # Calculate the means for each column group\n",
        "  filtered_col_mean = combined_df[filtered_columns].mean(axis=1)\n",
        "  filtered_col_mean_name = standard + '_Avg'\n",
        "\n",
        "  return filtered_col_mean_name, filtered_col_mean\n",
        "\n",
        "standard_list = ['FIN', 'PCA_0', 'PCA_1', 'SVD_0', 'SVD_1', 'SAE_0', 'SAE_1']\n",
        "filtered_name_list = []\n",
        "filtered_mean_list = []\n",
        "\n",
        "for standard in standard_list:\n",
        "  filtered_col_mean_name, filtered_col_mean = avg_metric(standard, combined_df)\n",
        "  filtered_name_list.append(filtered_col_mean_name)\n",
        "  filtered_mean_list.append(filtered_col_mean)\n",
        "averaged_df = pd.DataFrame(dict(zip(filtered_name_list, filtered_mean_list)))\n"
      ],
      "metadata": {
        "colab": {
          "base_uri": "https://localhost:8080/"
        },
        "id": "jtOkeYFDvPqp",
        "outputId": "5b94a8f9-ac36-43b9-f731-2f46c882b85a"
      },
      "execution_count": 117,
      "outputs": [
        {
          "output_type": "stream",
          "name": "stdout",
          "text": [
            "['FIN_A17U', 'FIN_AJBU', 'FIN_BUOU', 'FIN_BWCU', 'FIN_DHLU', 'FIN_J91U', 'FIN_M1GU', 'FIN_M44U', 'FIN_ME8U', 'FIN_O5RU']\n",
            "['PCA_0_AU8U', 'PCA_0_BMGU', 'PCA_0_C38U', 'PCA_0_CEDU', 'PCA_0_CRPU', 'PCA_0_D5IU', 'PCA_0_J69U', 'PCA_0_P40U', 'PCA_0_SK6U']\n",
            "['PCA_1_A17U', 'PCA_1_AJBU', 'PCA_1_BUOU', 'PCA_1_BWCU', 'PCA_1_DHLU', 'PCA_1_J91U', 'PCA_1_M1GU', 'PCA_1_M44U', 'PCA_1_ME8U', 'PCA_1_O5RU']\n",
            "['SVD_0_A17U', 'SVD_0_AJBU', 'SVD_0_BUOU', 'SVD_0_BWCU', 'SVD_0_DHLU', 'SVD_0_J91U', 'SVD_0_M1GU', 'SVD_0_M44U', 'SVD_0_ME8U', 'SVD_0_O5RU']\n",
            "['SVD_1_A17U', 'SVD_1_AJBU', 'SVD_1_BUOU', 'SVD_1_BWCU', 'SVD_1_DHLU', 'SVD_1_J91U', 'SVD_1_M1GU', 'SVD_1_M44U', 'SVD_1_ME8U', 'SVD_1_O5RU']\n",
            "['SAE_0_A17U', 'SAE_0_AJBU', 'SAE_0_BUOU', 'SAE_0_BWCU', 'SAE_0_DHLU', 'SAE_0_J91U', 'SAE_0_M1GU', 'SAE_0_M44U', 'SAE_0_ME8U', 'SAE_0_O5RU']\n",
            "['SAE_1_A17U', 'SAE_1_AJBU', 'SAE_1_BUOU', 'SAE_1_BWCU', 'SAE_1_DHLU', 'SAE_1_J91U', 'SAE_1_M1GU', 'SAE_1_M44U', 'SAE_1_ME8U', 'SAE_1_O5RU']\n"
          ]
        }
      ]
    },
    {
      "cell_type": "code",
      "source": [
        "averaged_df"
      ],
      "metadata": {
        "colab": {
          "base_uri": "https://localhost:8080/",
          "height": 204
        },
        "id": "WqQf9Cjb84WK",
        "outputId": "8b23d445-f888-4320-f4b3-9ad52a703e92"
      },
      "execution_count": 118,
      "outputs": [
        {
          "output_type": "execute_result",
          "data": {
            "text/plain": [
              "        FIN_Avg  PCA_0_Avg  PCA_1_Avg  SVD_0_Avg  SVD_1_Avg  SAE_0_Avg  \\\n",
              "MAE    0.017610   0.019723   0.019209   0.021795   0.018379   0.025369   \n",
              "MAPE   1.559876   3.743207   1.987108   2.163668   1.805024   2.270465   \n",
              "MDAPE  1.376433   3.013994   1.796966   1.978121   1.568946   1.857049   \n",
              "RMSE   0.021517   0.023941   0.023630   0.025940   0.022843   0.030808   \n",
              "R2     0.497795  -1.224810   0.169673  -0.056461   0.278158  -0.370581   \n",
              "\n",
              "       SAE_1_Avg  \n",
              "MAE     0.021709  \n",
              "MAPE    2.277515  \n",
              "MDAPE   1.942740  \n",
              "RMSE    0.027171  \n",
              "R2     -0.168358  "
            ],
            "text/html": [
              "\n",
              "  <div id=\"df-000147fd-c077-4f2a-b93d-3e97cff55311\" class=\"colab-df-container\">\n",
              "    <div>\n",
              "<style scoped>\n",
              "    .dataframe tbody tr th:only-of-type {\n",
              "        vertical-align: middle;\n",
              "    }\n",
              "\n",
              "    .dataframe tbody tr th {\n",
              "        vertical-align: top;\n",
              "    }\n",
              "\n",
              "    .dataframe thead th {\n",
              "        text-align: right;\n",
              "    }\n",
              "</style>\n",
              "<table border=\"1\" class=\"dataframe\">\n",
              "  <thead>\n",
              "    <tr style=\"text-align: right;\">\n",
              "      <th></th>\n",
              "      <th>FIN_Avg</th>\n",
              "      <th>PCA_0_Avg</th>\n",
              "      <th>PCA_1_Avg</th>\n",
              "      <th>SVD_0_Avg</th>\n",
              "      <th>SVD_1_Avg</th>\n",
              "      <th>SAE_0_Avg</th>\n",
              "      <th>SAE_1_Avg</th>\n",
              "    </tr>\n",
              "  </thead>\n",
              "  <tbody>\n",
              "    <tr>\n",
              "      <th>MAE</th>\n",
              "      <td>0.017610</td>\n",
              "      <td>0.019723</td>\n",
              "      <td>0.019209</td>\n",
              "      <td>0.021795</td>\n",
              "      <td>0.018379</td>\n",
              "      <td>0.025369</td>\n",
              "      <td>0.021709</td>\n",
              "    </tr>\n",
              "    <tr>\n",
              "      <th>MAPE</th>\n",
              "      <td>1.559876</td>\n",
              "      <td>3.743207</td>\n",
              "      <td>1.987108</td>\n",
              "      <td>2.163668</td>\n",
              "      <td>1.805024</td>\n",
              "      <td>2.270465</td>\n",
              "      <td>2.277515</td>\n",
              "    </tr>\n",
              "    <tr>\n",
              "      <th>MDAPE</th>\n",
              "      <td>1.376433</td>\n",
              "      <td>3.013994</td>\n",
              "      <td>1.796966</td>\n",
              "      <td>1.978121</td>\n",
              "      <td>1.568946</td>\n",
              "      <td>1.857049</td>\n",
              "      <td>1.942740</td>\n",
              "    </tr>\n",
              "    <tr>\n",
              "      <th>RMSE</th>\n",
              "      <td>0.021517</td>\n",
              "      <td>0.023941</td>\n",
              "      <td>0.023630</td>\n",
              "      <td>0.025940</td>\n",
              "      <td>0.022843</td>\n",
              "      <td>0.030808</td>\n",
              "      <td>0.027171</td>\n",
              "    </tr>\n",
              "    <tr>\n",
              "      <th>R2</th>\n",
              "      <td>0.497795</td>\n",
              "      <td>-1.224810</td>\n",
              "      <td>0.169673</td>\n",
              "      <td>-0.056461</td>\n",
              "      <td>0.278158</td>\n",
              "      <td>-0.370581</td>\n",
              "      <td>-0.168358</td>\n",
              "    </tr>\n",
              "  </tbody>\n",
              "</table>\n",
              "</div>\n",
              "    <div class=\"colab-df-buttons\">\n",
              "\n",
              "  <div class=\"colab-df-container\">\n",
              "    <button class=\"colab-df-convert\" onclick=\"convertToInteractive('df-000147fd-c077-4f2a-b93d-3e97cff55311')\"\n",
              "            title=\"Convert this dataframe to an interactive table.\"\n",
              "            style=\"display:none;\">\n",
              "\n",
              "  <svg xmlns=\"http://www.w3.org/2000/svg\" height=\"24px\" viewBox=\"0 -960 960 960\">\n",
              "    <path d=\"M120-120v-720h720v720H120Zm60-500h600v-160H180v160Zm220 220h160v-160H400v160Zm0 220h160v-160H400v160ZM180-400h160v-160H180v160Zm440 0h160v-160H620v160ZM180-180h160v-160H180v160Zm440 0h160v-160H620v160Z\"/>\n",
              "  </svg>\n",
              "    </button>\n",
              "\n",
              "  <style>\n",
              "    .colab-df-container {\n",
              "      display:flex;\n",
              "      gap: 12px;\n",
              "    }\n",
              "\n",
              "    .colab-df-convert {\n",
              "      background-color: #E8F0FE;\n",
              "      border: none;\n",
              "      border-radius: 50%;\n",
              "      cursor: pointer;\n",
              "      display: none;\n",
              "      fill: #1967D2;\n",
              "      height: 32px;\n",
              "      padding: 0 0 0 0;\n",
              "      width: 32px;\n",
              "    }\n",
              "\n",
              "    .colab-df-convert:hover {\n",
              "      background-color: #E2EBFA;\n",
              "      box-shadow: 0px 1px 2px rgba(60, 64, 67, 0.3), 0px 1px 3px 1px rgba(60, 64, 67, 0.15);\n",
              "      fill: #174EA6;\n",
              "    }\n",
              "\n",
              "    .colab-df-buttons div {\n",
              "      margin-bottom: 4px;\n",
              "    }\n",
              "\n",
              "    [theme=dark] .colab-df-convert {\n",
              "      background-color: #3B4455;\n",
              "      fill: #D2E3FC;\n",
              "    }\n",
              "\n",
              "    [theme=dark] .colab-df-convert:hover {\n",
              "      background-color: #434B5C;\n",
              "      box-shadow: 0px 1px 3px 1px rgba(0, 0, 0, 0.15);\n",
              "      filter: drop-shadow(0px 1px 2px rgba(0, 0, 0, 0.3));\n",
              "      fill: #FFFFFF;\n",
              "    }\n",
              "  </style>\n",
              "\n",
              "    <script>\n",
              "      const buttonEl =\n",
              "        document.querySelector('#df-000147fd-c077-4f2a-b93d-3e97cff55311 button.colab-df-convert');\n",
              "      buttonEl.style.display =\n",
              "        google.colab.kernel.accessAllowed ? 'block' : 'none';\n",
              "\n",
              "      async function convertToInteractive(key) {\n",
              "        const element = document.querySelector('#df-000147fd-c077-4f2a-b93d-3e97cff55311');\n",
              "        const dataTable =\n",
              "          await google.colab.kernel.invokeFunction('convertToInteractive',\n",
              "                                                    [key], {});\n",
              "        if (!dataTable) return;\n",
              "\n",
              "        const docLinkHtml = 'Like what you see? Visit the ' +\n",
              "          '<a target=\"_blank\" href=https://colab.research.google.com/notebooks/data_table.ipynb>data table notebook</a>'\n",
              "          + ' to learn more about interactive tables.';\n",
              "        element.innerHTML = '';\n",
              "        dataTable['output_type'] = 'display_data';\n",
              "        await google.colab.output.renderOutput(dataTable, element);\n",
              "        const docLink = document.createElement('div');\n",
              "        docLink.innerHTML = docLinkHtml;\n",
              "        element.appendChild(docLink);\n",
              "      }\n",
              "    </script>\n",
              "  </div>\n",
              "\n",
              "\n",
              "<div id=\"df-0a875240-3a59-4e75-a974-8c6459592092\">\n",
              "  <button class=\"colab-df-quickchart\" onclick=\"quickchart('df-0a875240-3a59-4e75-a974-8c6459592092')\"\n",
              "            title=\"Suggest charts.\"\n",
              "            style=\"display:none;\">\n",
              "\n",
              "<svg xmlns=\"http://www.w3.org/2000/svg\" height=\"24px\"viewBox=\"0 0 24 24\"\n",
              "     width=\"24px\">\n",
              "    <g>\n",
              "        <path d=\"M19 3H5c-1.1 0-2 .9-2 2v14c0 1.1.9 2 2 2h14c1.1 0 2-.9 2-2V5c0-1.1-.9-2-2-2zM9 17H7v-7h2v7zm4 0h-2V7h2v10zm4 0h-2v-4h2v4z\"/>\n",
              "    </g>\n",
              "</svg>\n",
              "  </button>\n",
              "\n",
              "<style>\n",
              "  .colab-df-quickchart {\n",
              "      --bg-color: #E8F0FE;\n",
              "      --fill-color: #1967D2;\n",
              "      --hover-bg-color: #E2EBFA;\n",
              "      --hover-fill-color: #174EA6;\n",
              "      --disabled-fill-color: #AAA;\n",
              "      --disabled-bg-color: #DDD;\n",
              "  }\n",
              "\n",
              "  [theme=dark] .colab-df-quickchart {\n",
              "      --bg-color: #3B4455;\n",
              "      --fill-color: #D2E3FC;\n",
              "      --hover-bg-color: #434B5C;\n",
              "      --hover-fill-color: #FFFFFF;\n",
              "      --disabled-bg-color: #3B4455;\n",
              "      --disabled-fill-color: #666;\n",
              "  }\n",
              "\n",
              "  .colab-df-quickchart {\n",
              "    background-color: var(--bg-color);\n",
              "    border: none;\n",
              "    border-radius: 50%;\n",
              "    cursor: pointer;\n",
              "    display: none;\n",
              "    fill: var(--fill-color);\n",
              "    height: 32px;\n",
              "    padding: 0;\n",
              "    width: 32px;\n",
              "  }\n",
              "\n",
              "  .colab-df-quickchart:hover {\n",
              "    background-color: var(--hover-bg-color);\n",
              "    box-shadow: 0 1px 2px rgba(60, 64, 67, 0.3), 0 1px 3px 1px rgba(60, 64, 67, 0.15);\n",
              "    fill: var(--button-hover-fill-color);\n",
              "  }\n",
              "\n",
              "  .colab-df-quickchart-complete:disabled,\n",
              "  .colab-df-quickchart-complete:disabled:hover {\n",
              "    background-color: var(--disabled-bg-color);\n",
              "    fill: var(--disabled-fill-color);\n",
              "    box-shadow: none;\n",
              "  }\n",
              "\n",
              "  .colab-df-spinner {\n",
              "    border: 2px solid var(--fill-color);\n",
              "    border-color: transparent;\n",
              "    border-bottom-color: var(--fill-color);\n",
              "    animation:\n",
              "      spin 1s steps(1) infinite;\n",
              "  }\n",
              "\n",
              "  @keyframes spin {\n",
              "    0% {\n",
              "      border-color: transparent;\n",
              "      border-bottom-color: var(--fill-color);\n",
              "      border-left-color: var(--fill-color);\n",
              "    }\n",
              "    20% {\n",
              "      border-color: transparent;\n",
              "      border-left-color: var(--fill-color);\n",
              "      border-top-color: var(--fill-color);\n",
              "    }\n",
              "    30% {\n",
              "      border-color: transparent;\n",
              "      border-left-color: var(--fill-color);\n",
              "      border-top-color: var(--fill-color);\n",
              "      border-right-color: var(--fill-color);\n",
              "    }\n",
              "    40% {\n",
              "      border-color: transparent;\n",
              "      border-right-color: var(--fill-color);\n",
              "      border-top-color: var(--fill-color);\n",
              "    }\n",
              "    60% {\n",
              "      border-color: transparent;\n",
              "      border-right-color: var(--fill-color);\n",
              "    }\n",
              "    80% {\n",
              "      border-color: transparent;\n",
              "      border-right-color: var(--fill-color);\n",
              "      border-bottom-color: var(--fill-color);\n",
              "    }\n",
              "    90% {\n",
              "      border-color: transparent;\n",
              "      border-bottom-color: var(--fill-color);\n",
              "    }\n",
              "  }\n",
              "</style>\n",
              "\n",
              "  <script>\n",
              "    async function quickchart(key) {\n",
              "      const quickchartButtonEl =\n",
              "        document.querySelector('#' + key + ' button');\n",
              "      quickchartButtonEl.disabled = true;  // To prevent multiple clicks.\n",
              "      quickchartButtonEl.classList.add('colab-df-spinner');\n",
              "      try {\n",
              "        const charts = await google.colab.kernel.invokeFunction(\n",
              "            'suggestCharts', [key], {});\n",
              "      } catch (error) {\n",
              "        console.error('Error during call to suggestCharts:', error);\n",
              "      }\n",
              "      quickchartButtonEl.classList.remove('colab-df-spinner');\n",
              "      quickchartButtonEl.classList.add('colab-df-quickchart-complete');\n",
              "    }\n",
              "    (() => {\n",
              "      let quickchartButtonEl =\n",
              "        document.querySelector('#df-0a875240-3a59-4e75-a974-8c6459592092 button');\n",
              "      quickchartButtonEl.style.display =\n",
              "        google.colab.kernel.accessAllowed ? 'block' : 'none';\n",
              "    })();\n",
              "  </script>\n",
              "</div>\n",
              "    </div>\n",
              "  </div>\n"
            ]
          },
          "metadata": {},
          "execution_count": 118
        }
      ]
    },
    {
      "cell_type": "code",
      "source": [
        "#@title generate a multi-bar plot\n",
        "\n",
        "plt.figure(figsize=(10, 6))\n",
        "x_labels = averaged_df.index\n",
        "\n",
        "# Create an array for the x-axis positions\n",
        "x = np.arange(len(x_labels))\n",
        "\n",
        "bar_width = 0.1\n",
        "colors = ['#E63946', '#F1FAEE', '#A8DADC', '#457B9D', '#1D3557', '#F4A261', '#2A9D8F']\n",
        "\n",
        "# Create bars for each value and position them properly\n",
        "for i, col in enumerate(averaged_df.columns):\n",
        "    plt.bar(x + (i - 3) * bar_width, averaged_df[col], width=bar_width, label=col, color=colors[i])\n",
        "\n",
        "plt.xticks(x, x_labels)\n",
        "\n",
        "# Add labels and a legend\n",
        "plt.xlabel('Methods')\n",
        "plt.ylabel('Values')\n",
        "plt.legend()\n",
        "plt.tight_layout()\n",
        "plt.savefig(f'{sector}_multibar_plot.png')\n",
        "plt.show()"
      ],
      "metadata": {
        "colab": {
          "base_uri": "https://localhost:8080/",
          "height": 607
        },
        "id": "YaO2qfhA5ZjV",
        "outputId": "3f722faa-45b2-49cb-bde4-dfb3b95ab3de"
      },
      "execution_count": 119,
      "outputs": [
        {
          "output_type": "display_data",
          "data": {
            "text/plain": [
              "<Figure size 1000x600 with 1 Axes>"
            ],
            "image/png": "[encoded data removed]"
          },
          "metadata": {}
        }
      ]
    },
    {
      "cell_type": "code",
      "source": [
        "averaged_df.to_csv(f\"metric_comparison_{sector}.csv\", index = False)"
      ],
      "metadata": {
        "id": "zPipZGjC8Q5t"
      },
      "execution_count": 120,
      "outputs": []
    }
  ]
}